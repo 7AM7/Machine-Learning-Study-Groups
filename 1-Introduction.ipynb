{
 "cells": [
  {
   "cell_type": "markdown",
   "metadata": {},
   "source": [
    "# What is Machine Learning?"
   ]
  },
  {
   "cell_type": "markdown",
   "metadata": {},
   "source": [
    "A branch of artificial intelligence, concerned with the design and development of algorithms that allow computers to evolve behaviors based on empirical data.\n",
    "\n",
    "As intelligence requires knowledge, it is necessary for the computers to acquire knowledge.\n"
   ]
  },
  {
   "cell_type": "markdown",
   "metadata": {},
   "source": [
    " # Machine Learning Applications ?\n",
    " - ## Spam ﬁltering \n",
    " - ## Credit card fraud detection \n",
    " - ## Digit recognition on checks, zip codes \n",
    " - ## Detecting faces in images \n",
    " - ## Recommendation system \n",
    " - ## Search engines \n",
    " - ## Handwriting recognition \n",
    " - ## etc..."
   ]
  },
  {
   "cell_type": "markdown",
   "metadata": {},
   "source": [
    "# What is learning type?"
   ]
  },
  {
   "cell_type": "markdown",
   "metadata": {},
   "source": [
    "## Supervised\n",
    "    In supervised learning, we have access to examples of correct input-output pairs that we can show to the machine during the training phase. The common example of handwriting recognition is typically approached as a supervised learning task. We show the computer a number of images of handwritten digits along with the correct labels for those digits, and the computer learns the patterns that relate images to their labels.\n",
    "\n",
    "## Unsupervised\n",
    "    In unsupervised learning, we have access to examples of correct input only that we can show to the machine during the training phase. The common example of handwriting recognition is typically approached as a unsupervised learning task. We show the computer a number of images of handwritten digits along without labels, and the computer learns the patterns that relate images for each of them.\n"
   ]
  },
  {
   "cell_type": "markdown",
   "metadata": {},
   "source": [
    "# What is Supervised learning problems?\n",
    "<img src=\"Images/classification-regression.png\" style=\"width:600px;height=600px\">"
   ]
  },
  {
   "cell_type": "markdown",
   "metadata": {},
   "source": [
    "## What is Classification problem ?\n",
    "    Classification problems ask the algorithm to predict a discrete value, identifying the input data as the member of a particular class, or group. In a training dataset of animal images, that would mean each photo was pre-labeled as cat or koala. The algorithm is then evaluated by how accurately it can correctly classify new images of other koalas and cats.\n",
    "\n",
    "## What is Regression problem ?\n",
    "\n",
    "    regression problems look at continuous data. One use case, linear regression, should sound familiar from algebra class: given a particular x value, what’s the expected value of the y variable?"
   ]
  },
  {
   "cell_type": "markdown",
   "metadata": {},
   "source": [
    "# What is Unsupervised learning problems?\n"
   ]
  },
  {
   "cell_type": "markdown",
   "metadata": {},
   "source": [
    "## What is Clustering problem ?\n",
    "    Without being an expert ornithologist, it’s possible to look at a collection of bird photos and separate them roughly by species, relying on cues like feather color, size or beak shape. That’s how the most common application for unsupervised learning, clustering, works: the deep learning model looks for training data that are similar to each other and groups them together.\n",
    "    "
   ]
  },
  {
   "cell_type": "markdown",
   "metadata": {},
   "source": [
    "# Tools for start ?\n",
    "   - ## [Python 3.6.7](https://www.python.org/downloads/release/python-367/)\n",
    "   - ## [Anaconda](https://www.anaconda.com/download/)"
   ]
  },
  {
   "cell_type": "markdown",
   "metadata": {},
   "source": [
    "# Machine learning steps ?\n",
    " - ## Retreat Review\n",
    " - ## Data Collection\n",
    "  - ### [Google Dataset Search](https://toolbox.google.com/datasetsearch)\n",
    "  - ### [Kaggle](https://www.kaggle.com/)\n",
    "  - ### etc ...\n",
    " - ## Data Preprocessing\n",
    " - ## machine learning model\n",
    " - ## Performance/Accuracy"
   ]
  },
  {
   "cell_type": "code",
   "execution_count": null,
   "metadata": {},
   "outputs": [],
   "source": []
  }
 ],
 "metadata": {
  "kernelspec": {
   "display_name": "Python 3",
   "language": "python",
   "name": "python3"
  },
  "language_info": {
   "codemirror_mode": {
    "name": "ipython",
    "version": 3
   },
   "file_extension": ".py",
   "mimetype": "text/x-python",
   "name": "python",
   "nbconvert_exporter": "python",
   "pygments_lexer": "ipython3",
   "version": "3.6.6"
  }
 },
 "nbformat": 4,
 "nbformat_minor": 2
}
