{
 "cells": [
  {
   "cell_type": "code",
   "execution_count": 30,
   "metadata": {},
   "outputs": [],
   "source": [
    "import os \n",
    "import numpy as np\n",
    "import pandas as pd"
   ]
  },
  {
   "cell_type": "code",
   "execution_count": 31,
   "metadata": {},
   "outputs": [
    {
     "name": "stdout",
     "output_type": "stream",
     "text": [
      "C:\\Users\\AM7\\#Work\\Machine-Learning-IEEE\n"
     ]
    }
   ],
   "source": [
    "dir_path = os.path.dirname(os.path.realpath('__file__'))\n",
    "print(dir_path)"
   ]
  },
  {
   "cell_type": "code",
   "execution_count": 32,
   "metadata": {},
   "outputs": [],
   "source": [
    "dataset = pd.read_csv(dir_path + '\\\\Datasets\\\\Regression\\\\studentscores.csv')"
   ]
  },
  {
   "cell_type": "code",
   "execution_count": 36,
   "metadata": {},
   "outputs": [
    {
     "data": {
      "text/html": [
       "<div>\n",
       "<style scoped>\n",
       "    .dataframe tbody tr th:only-of-type {\n",
       "        vertical-align: middle;\n",
       "    }\n",
       "\n",
       "    .dataframe tbody tr th {\n",
       "        vertical-align: top;\n",
       "    }\n",
       "\n",
       "    .dataframe thead th {\n",
       "        text-align: right;\n",
       "    }\n",
       "</style>\n",
       "<table border=\"1\" class=\"dataframe\">\n",
       "  <thead>\n",
       "    <tr style=\"text-align: right;\">\n",
       "      <th></th>\n",
       "      <th>Hours</th>\n",
       "      <th>Scores</th>\n",
       "    </tr>\n",
       "  </thead>\n",
       "  <tbody>\n",
       "    <tr>\n",
       "      <th>0</th>\n",
       "      <td>2.5</td>\n",
       "      <td>21</td>\n",
       "    </tr>\n",
       "    <tr>\n",
       "      <th>1</th>\n",
       "      <td>5.1</td>\n",
       "      <td>47</td>\n",
       "    </tr>\n",
       "    <tr>\n",
       "      <th>2</th>\n",
       "      <td>3.2</td>\n",
       "      <td>27</td>\n",
       "    </tr>\n",
       "    <tr>\n",
       "      <th>3</th>\n",
       "      <td>8.5</td>\n",
       "      <td>75</td>\n",
       "    </tr>\n",
       "    <tr>\n",
       "      <th>4</th>\n",
       "      <td>3.5</td>\n",
       "      <td>30</td>\n",
       "    </tr>\n",
       "  </tbody>\n",
       "</table>\n",
       "</div>"
      ],
      "text/plain": [
       "   Hours  Scores\n",
       "0    2.5      21\n",
       "1    5.1      47\n",
       "2    3.2      27\n",
       "3    8.5      75\n",
       "4    3.5      30"
      ]
     },
     "execution_count": 36,
     "metadata": {},
     "output_type": "execute_result"
    }
   ],
   "source": [
    "dataset.head()\n"
   ]
  },
  {
   "cell_type": "code",
   "execution_count": 37,
   "metadata": {},
   "outputs": [],
   "source": [
    "Features =  dataset['Hours']\n",
    "Labels = dataset['Scores']"
   ]
  },
  {
   "cell_type": "code",
   "execution_count": 38,
   "metadata": {},
   "outputs": [],
   "source": [
    "## Without librery\n",
    "\n",
    "#trainning data\n",
    "X_train = Features.head(15)\n",
    "y_train = Labels.head(15)\n",
    "\n",
    "#test data\n",
    "X_test =  Features.tail(10)\n",
    "y_test = Labels.tail(10)"
   ]
  },
  {
   "cell_type": "code",
   "execution_count": 7,
   "metadata": {},
   "outputs": [],
   "source": [
    "## With librery\n",
    "from sklearn.model_selection import train_test_split\n",
    "X_train, X_test, y_train, y_test = train_test_split(Features, Labels, test_size = 0.4)"
   ]
  },
  {
   "cell_type": "code",
   "execution_count": 39,
   "metadata": {},
   "outputs": [
    {
     "name": "stdout",
     "output_type": "stream",
     "text": [
      "15 10 15 10\n"
     ]
    }
   ],
   "source": [
    "print(len(X_train), len(X_test), len(y_train), len(y_test))"
   ]
  },
  {
   "cell_type": "markdown",
   "metadata": {},
   "source": [
    "# Build LinearRegression Model Without librery"
   ]
  },
  {
   "cell_type": "code",
   "execution_count": 40,
   "metadata": {},
   "outputs": [],
   "source": [
    "#calculate predicted y\n",
    "def predicted_y(X_train,y_train,mean_x,mean_y,X_test):\n",
    "    # length of training set\n",
    "    m = len(X_train)\n",
    "\n",
    "    nume_val = 0;\n",
    "    deno_val = 0;\n",
    "\n",
    "    #formula\n",
    "    \"\"\" \n",
    "        m = b1\n",
    "        b = b0\n",
    "        line = y = b1x + bo\n",
    "        y = mx1 + mx2 + b\n",
    "        b1 = slope =((x-x_mean) * (y-y_mean)) / x-x_mean^2\n",
    "        b0 = intercept = y-b1x\n",
    "    \"\"\"\n",
    "\n",
    "    for i in range(m):\n",
    "        nume_val += (X_train[i] - mean_x) * (y_train[i] - mean_y)\n",
    "        deno_val += (X_train[i] - mean_x) ** 2\n",
    "\n",
    "    b1 = nume_val / deno_val #m\n",
    "    b0 = mean_y - (b1 * mean_x) #b\n",
    "    \n",
    "    ## test step\n",
    "    Y = b0 + b1 * X_test\n",
    "    return Y"
   ]
  },
  {
   "cell_type": "code",
   "execution_count": 41,
   "metadata": {},
   "outputs": [],
   "source": [
    "#calculate R2Squared for accuracy\n",
    "\n",
    "def R2Squared(y_test,Y):\n",
    "    #formula\n",
    "    \"\"\" \n",
    "        r2_squared = sum((y - mean_y_test) ^ 2 / (y_test - mean_y_test) ^ 2)\n",
    "        r1 = sum((y_test - mean_y_test) ^ 2)\n",
    "        r2 = sum((y - mean_y_test) ^ 2)        \n",
    "    \"\"\"\n",
    "    mean_y_test = np.mean(y_test)\n",
    "    r1 = sum((y_test - mean_y_test) ** 2)\n",
    "    r2 = sum((Y - mean_y_test) ** 2)\n",
    "    r_sq = r2 / r1\n",
    "    return r_sq"
   ]
  },
  {
   "cell_type": "code",
   "execution_count": 42,
   "metadata": {},
   "outputs": [],
   "source": [
    "#mean of x and y training set\n",
    "mean_x = np.mean(X_train)\n",
    "mean_y = np.mean(y_train)"
   ]
  },
  {
   "cell_type": "code",
   "execution_count": 43,
   "metadata": {},
   "outputs": [
    {
     "name": "stdout",
     "output_type": "stream",
     "text": [
      "0.8621374632318876\n"
     ]
    }
   ],
   "source": [
    "predicted_y = predicted_y(X_train, y_train, mean_x, mean_y, X_test)\n",
    "r_sq = R2Squared(y_test, predicted_y)\n",
    "print(r_sq)"
   ]
  },
  {
   "cell_type": "code",
   "execution_count": 48,
   "metadata": {},
   "outputs": [
    {
     "data": {
      "image/png": "[encoded data removed]",
      "text/plain": [
       "<Figure size 432x288 with 1 Axes>"
      ]
     },
     "metadata": {
      "needs_background": "light"
     },
     "output_type": "display_data"
    }
   ],
   "source": [
    "## when R Squared near 0 we will have fit line \n",
    "import matplotlib.pyplot as plt\n",
    "plt.scatter(X_test,y_test,c='#ef5423',label=\"scatter plot\")\n",
    "plt.plot(X_test,predicted_y,label=\"regression line\")\n",
    "plt.xlabel('x-axis')\n",
    "plt.ylabel('y-axis')\n",
    "plt.legend()\n",
    "plt.show()"
   ]
  },
  {
   "cell_type": "code",
   "execution_count": null,
   "metadata": {},
   "outputs": [],
   "source": [
    "    from sklearn.linear_model import LinearRegression\n",
    "    regressor = LinearRegression()\n",
    "    regressor.fit(x_train, y_train)\n",
    "    \n",
    "    \n",
    "    \n",
    "    # Predicting the Test set results\n",
    "    y_pred = regressor.predict(x_test)\n",
    "    score = regressor.score(Labels, y_pred)"
   ]
  }
 ],
 "metadata": {
  "kernelspec": {
   "display_name": "Python 3",
   "language": "python",
   "name": "python3"
  },
  "language_info": {
   "codemirror_mode": {
    "name": "ipython",
    "version": 3
   },
   "file_extension": ".py",
   "mimetype": "text/x-python",
   "name": "python",
   "nbconvert_exporter": "python",
   "pygments_lexer": "ipython3",
   "version": "3.7.0"
  }
 },
 "nbformat": 4,
 "nbformat_minor": 2
}
